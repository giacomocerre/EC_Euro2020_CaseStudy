{
 "cells": [
  {
   "cell_type": "markdown",
   "id": "extensive-cutting",
   "metadata": {},
   "source": [
    "### Message\n",
    "\n",
    "This function prints a message for the user"
   ]
  },
  {
   "cell_type": "code",
   "execution_count": 2,
   "id": "configured-apartment",
   "metadata": {},
   "outputs": [],
   "source": [
    "def format_Warning(message, category, filename, lineno, line=''):\n",
    "    return str(message) + '\\n'\n"
   ]
  },
  {
   "cell_type": "markdown",
   "id": "valuable-handle",
   "metadata": {},
   "source": [
    "### Read data from file\n",
    "\n",
    "reads a json file and returns the variable 'data'"
   ]
  },
  {
   "cell_type": "code",
   "execution_count": 3,
   "id": "guilty-lying",
   "metadata": {},
   "outputs": [],
   "source": [
    "def read_data(filename):\n",
    "    with open(filename, encoding=\"utf8\") as json_file:\n",
    "        data = json.load(json_file)\n",
    "    return data"
   ]
  },
  {
   "cell_type": "code",
   "execution_count": null,
   "id": "9ae6d7f0",
   "metadata": {},
   "outputs": [],
   "source": [
    "def get_vip(followers):\n",
    "    if (followers > 200000):\n",
    "        return 2\n",
    "    elif (followers > 20000):\n",
    "        return 1\n",
    "    else:\n",
    "        return 0"
   ]
  },
  {
   "cell_type": "markdown",
   "id": "smaller-angola",
   "metadata": {},
   "source": [
    "# 1. Network utilities functions"
   ]
  },
  {
   "cell_type": "markdown",
   "id": "natural-worry",
   "metadata": {},
   "source": [
    "### 1.1 Network creation\n",
    "\n",
    "####  >> `init_network(data)`\n",
    "\n",
    "---------------------------------\n",
    "\n",
    "- **data** = `([{tweet1},{tweet2}])` json dataset\n",
    "\n",
    "**Result** = the newly created network"
   ]
  },
  {
   "cell_type": "code",
   "execution_count": 5,
   "id": "attended-roots",
   "metadata": {},
   "outputs": [],
   "source": [
    "def init_network(data):\n",
    "    G = nx.Graph()\n",
    "    build_network(data, G)\n",
    "    return G"
   ]
  },
  {
   "cell_type": "code",
   "execution_count": 6,
   "id": "reflected-timothy",
   "metadata": {},
   "outputs": [],
   "source": [
    "def build_network(data, G):\n",
    "    users_without_tweet_reference = read_data(\"../data/final/user_followers.json\")\n",
    "    tot_RT = 0\n",
    "    tot_ME = 0\n",
    "    tot_QT = 0\n",
    "    tot_RE = 0\n",
    "\n",
    "    for tweet in data:\n",
    "        user = tweet['user']\n",
    "        retweets = tweet['retweets']\n",
    "        mentions = [user for user in tweet['mentions'] if user not in retweets]\n",
    "\n",
    "\n",
    "        if tweet['reply_to'] != \"\":\n",
    "            reply_to = tweet['reply_to']\n",
    "        else:\n",
    "            reply_to = []\n",
    "            \n",
    "        if tweet['quote_to'] != \"\":\n",
    "            quote_to = tweet['quote_to']\n",
    "        else:\n",
    "            quote_to = []\n",
    "            \n",
    "        mentions = [user for user in mentions if user not in retweets]\n",
    "        \n",
    "            \n",
    "        _addEdge(user, retweets, 1, G, \"retweet\")\n",
    "        _addEdge(user, mentions, 1, G, \"mention\")\n",
    "        _addEdge(user, reply_to, 1, G, \"reply_to\")\n",
    "        _addEdge(user, quote_to, 1, G, \"quote_to\")\n",
    "        _addEdge(retweets, mentions, 0.5, G,\"mention\")\n",
    "        _addEdge(mentions, reply_to, 0.5, G, \"reply_to\")\n",
    "        _addEdge(mentions, quote_to, 0.5, G, \"quote_to\")\n",
    "        \n",
    "        _addAttribute(tweet['user'], tweet['user_classification'],tweet['vip'], G)\n",
    "\n",
    "        tot_RT += len(retweets)\n",
    "        tot_QT += len(quote_to)\n",
    "        tot_ME += len(mentions)\n",
    "        tot_RE += len(reply_to)\n",
    "    \n",
    "        \n",
    "    for node in list(G.nodes()):\n",
    "        if 'classification' not in G.nodes[node]:\n",
    "            G.nodes[node]['classification'] = 'Neutral'\n",
    "            G.nodes[node]['vip'] = 0\n",
    "        for user in users_without_tweet_reference:\n",
    "            if user['user'] == node:\n",
    "                G.nodes[node]['classification'] = 'Neutral'\n",
    "                G.nodes[node]['vip'] = get_vip(user['followers'])\n",
    "                \n",
    "    remove = [node for node,degree in dict(G.degree()).items() if degree == 0]\n",
    "    G.remove_nodes_from(remove)"
   ]
  },
  {
   "cell_type": "markdown",
   "id": "ignored-trinity",
   "metadata": {},
   "source": [
    "### 1.2 Weighted network\n",
    "\n",
    "####  >> `_addEdge(t1, t2, w, G, types)`\n",
    "\n",
    "-------------------------------\n",
    "\n",
    "This function takes as input 2 variables (t1, t2) and one integer (w).\n",
    "- **t1** = `(list)` or `(string)`\n",
    "- **t2** = `(list)` or `(string)`\n",
    "- **w** = `(int)`\n",
    "- **G** = `(Networkx Graph)`\n",
    "- **types** = `(string)`\n",
    "\n",
    "The nodes (t1 e t2) are linked to each other. The weight (w) is calculated summing every occurence of an edge happening between two nodes. The weight is different depending on the type of interaction between the two nodes, as follows:\n",
    "**Result** = the function add the weighted edges to the network"
   ]
  },
  {
   "cell_type": "code",
   "execution_count": 7,
   "id": "welsh-possession",
   "metadata": {},
   "outputs": [],
   "source": [
    "def _addEdge(t1, t2, w, G, types):\n",
    "    if t1:\n",
    "        if isinstance(t1, list):\n",
    "            for x in t1:\n",
    "                for y in t2:\n",
    "                    if G.has_edge(x, y):\n",
    "                        G[x][y][\"weight\"] += w\n",
    "                    else:\n",
    "                        if x != y:\n",
    "                            G.add_edge(x, y, weight = w, interaction = types, weigth_classification=0)\n",
    "        else:            \n",
    "            for x in t2:\n",
    "                if G.has_edge(t1, x):\n",
    "                    G[t1][x][\"weight\"] += w\n",
    "                else:\n",
    "                    if x != t1:\n",
    "                        G.add_edge(t1, x, weight = w, interaction = types, weigth_classification=0)"
   ]
  },
  {
   "cell_type": "code",
   "execution_count": 20,
   "id": "aerial-professor",
   "metadata": {},
   "outputs": [],
   "source": [
    "def _addAttribute(user, clss, vp, G):\n",
    "    n_clss = ''\n",
    "    if clss < -0.5:\n",
    "        n_clss = 'Pros'\n",
    "    elif clss >= -0.5 and clss <= 0.5:\n",
    "        n_clss = 'Neutral'\n",
    "    elif clss > 0.5:\n",
    "        n_clss = 'Cons'\n",
    "        \n",
    "    G.add_node(user, classification = n_clss, vip = vp, cont_classification = clss)"
   ]
  },
  {
   "cell_type": "markdown",
   "id": "instant-thirty",
   "metadata": {},
   "source": [
    "### 1.3 Number of nodes and edges \n",
    "\n",
    "#### >> `network_node_edge(G, name)`\n",
    "\n",
    "------------------------\n",
    "\n",
    "- **G** = `(NetworkX Graph)`\n",
    "- **name** = `(string)`\n",
    "\n",
    "**Result** = prints the total number of nodes and edges of the network G"
   ]
  },
  {
   "cell_type": "code",
   "execution_count": 9,
   "id": "driving-japanese",
   "metadata": {},
   "outputs": [],
   "source": [
    "def network_node_edge(G, name):\n",
    "    print(f\"La rete {name} ha:\\n\")\n",
    "    print(\"* Numero di nodi = \", G.number_of_nodes())\n",
    "    print(\"* Numero di Edge = \", G.number_of_edges())"
   ]
  },
  {
   "cell_type": "markdown",
   "id": "published-bible",
   "metadata": {},
   "source": [
    "### 1.4 Information about the network\n",
    "\n",
    "#### >> `network_info(G, name, multigraph=True)`\n",
    "\n",
    "------\n",
    " \n",
    "This function takes as input:\n",
    "- **G** = `(NetworkX Graph)`\n",
    "- **name** = `(sting)` network name\n",
    "- **multigraph** = `(Boolean)` \n",
    "\n",
    "**Result** = the function prints those information about the network:\n",
    "- number of nodes;\n",
    "- number of edges;\n",
    "- average degree;\n",
    "- transitivity;\n",
    "- average clustering;\n",
    "- number of different connected components;\n",
    "- diameter:\n",
    "- density;"
   ]
  },
  {
   "cell_type": "code",
   "execution_count": 10,
   "id": "enormous-lease",
   "metadata": {},
   "outputs": [],
   "source": [
    "def network_info(G, name, multigraph=True):\n",
    "    N = G.number_of_nodes()\n",
    "    L = G.number_of_edges()\n",
    "    g_av_degree = sum(dict(G.degree()).values())/float(len(G)) #or 2*L/N (direct network)\n",
    "    if multigraph: \n",
    "        g_transitivity = nx.transitivity(G) #the fraction of all possible triangles present in g\n",
    "        g_av_clustering = nx.average_clustering(G)\n",
    "    n_conn_comp = nx.number_connected_components(G)\n",
    "    gc_diam = nx.diameter(G.subgraph(sorted(nx.connected_components(G), key=len, reverse=True)[0]))\n",
    "    density = nx.density(G) #or (2*L)/(N*(N-1))\n",
    "    \n",
    "    if multigraph:\n",
    "        print(f\"Network information of {name}:\\n\",\n",
    "              f\"Nodes: \\t{N}\\n\",\n",
    "              f\"Edges: \\t{L}\\n\\n\",\n",
    "              f\"Average degree: \\t\\t{g_av_degree}\\n\",\n",
    "              f\"Transitivity: \\t\\t{g_transitivity}\\n\",\n",
    "              f\"Average clustering: \\t{g_av_clustering}\\n\\n\",\n",
    "              f\"Connected components: \\t{n_conn_comp}\\n\",\n",
    "              f\"Diameter: \\t{gc_diam}\\n\\n\",\n",
    "              f\"Density: \\t{density}\\n\")\n",
    "    else: \n",
    "        print(f\"Network information of {name}:\\n\",\n",
    "              f\"Nodes: \\t{N}\\n\",\n",
    "              f\"Edges: \\t{L}\\n\\n\",\n",
    "              f\"Average degree: \\t\\t{g_av_degree}\\n\",\n",
    "              f\"Transitivity: \\t\\t{g_transitivity}\\n\",\n",
    "              f\"Average clustering: \\t-\\n\\n\",\n",
    "              f\"Connected components: \\t{n_conn_comp}\\n\",\n",
    "              f\"Diameter: \\t{gc_diam}\\n\\n\",\n",
    "              f\"Density: \\t{density}\\n\")\n",
    "        \n",
    "    if nx.is_connected(G):\n",
    "        av_short_p = nx.average_shortest_path_length(G)\n",
    "        print(f\"Average length of shortest paths: {av_short_p}\")"
   ]
  },
  {
   "cell_type": "markdown",
   "id": "circular-incentive",
   "metadata": {},
   "source": [
    "### Top score\n",
    "\n",
    "#### >> `top_score_print(n, dict_centr, order)`\n",
    "\n",
    "- **n**= `(int)` \n",
    "- **dict_centr** = `(dict)`\n",
    "- **order** = `(boolean)`"
   ]
  },
  {
   "cell_type": "code",
   "execution_count": 11,
   "id": "selective-worst",
   "metadata": {},
   "outputs": [],
   "source": [
    "def top_score_print(n, dict_centr, order):\n",
    "    dict_ord = (dict(sorted(dict_centr.items(), key=lambda item: item[1], reverse=order)))\n",
    "    for i in dict(list(dict_ord.items())[0: n]) :\n",
    "        print(i,'\\t',dict_ord[i])"
   ]
  },
  {
   "cell_type": "markdown",
   "id": "exterior-pacific",
   "metadata": {},
   "source": [
    "# 2. Plotter Graphs Utilities Functions\n",
    "\n",
    "\n",
    "### 2.1 Plotter function\n",
    "\n",
    "#### >> `plot_dist(G)`\n",
    "\n",
    "---------\n",
    "\n",
    "- **G** = `(NetworkX Graph)`\n",
    "\n",
    "**Result** = prints 3 graphs:\n",
    "\n",
    "-  **Plotter Scatter della distribuzione**\n",
    "-  **CDF**\n",
    "-  **CDF**"
   ]
  },
  {
   "cell_type": "code",
   "execution_count": 12,
   "id": "impressive-switch",
   "metadata": {},
   "outputs": [],
   "source": [
    "def plot_dist(G):\n",
    "    xmin = min([d for n, d in G.degree()])\n",
    "    indegrees =sorted([d for n, d in G.degree()], reverse=True)\n",
    "    degree = np.bincount(indegrees)\n",
    "    fit = powerlaw.Fit(np.array(degree)+1, fit_method='KS', xmin=xmin, xmax=max(degree)-xmin,discrete=True)\n",
    "    degree\n",
    "    \n",
    "    fig = plt.figure(figsize=(15,4)) \n",
    "    \"\"\" Plot Distribution \"\"\"\n",
    "    plt.subplot(1, 3, 1)\n",
    "    plt.title(\"Degree Distribution\")\n",
    "    plt.plot(range(len(degree)),degree,'b.')   \n",
    "    plt.loglog()\n",
    "    #plt.xlim((min(degree), max(degree)))\n",
    "    plt.xlabel('Degree')\n",
    "    plt.ylabel('P(k) (#Nodes)')\n",
    "\n",
    "    \"\"\" Plot CDF \"\"\"\n",
    "    plt.subplot(1, 3, 2)\n",
    "    fit.plot_cdf()\n",
    "    plt.xlabel(\"Degree\")\n",
    "    plt.ylabel('CDF')\n",
    "\n",
    "    \"\"\" Plot CCDF \"\"\"\n",
    "    plt.subplot(1, 3, 3)\n",
    "    fit.plot_ccdf()\n",
    "    plt.ylabel('CCDF')\n",
    "    plt.xlabel('Degree')\n",
    "    plt.tight_layout()\n",
    "    plt.show()"
   ]
  },
  {
   "cell_type": "markdown",
   "id": "continent-polymer",
   "metadata": {},
   "source": [
    "# 3. Pesantezza dei link\n",
    "\n",
    "### 3.1 Node weight function\n",
    "\n",
    "#### >> `edges_weight(G)`\n",
    "\n",
    "---\n",
    "\n",
    "- **G** = `(NetworkX Graph)`\n",
    "\n",
    "**Result** = 4 output:\n",
    "- **edges** = edges `(node1 - node2)`\n",
    "- **weights** = `(list[int])` edge weight\n",
    "- **edge_colors** = `(list[int])`"
   ]
  },
  {
   "cell_type": "code",
   "execution_count": 13,
   "id": "amateur-sense",
   "metadata": {},
   "outputs": [],
   "source": [
    "def edges_weight(G):\n",
    "    edges,weights = zip(*nx.get_edge_attributes(G,'weight').items())\n",
    "    edge_colors = weights\n",
    "    if G.has_edge(\"perchetendenza\", \"porquetendencia\"):\n",
    "        G[\"perchetendenza\"][\"porquetendencia\"]['weight'] = 0\n",
    "    return edges, list(weights), edge_colors"
   ]
  },
  {
   "cell_type": "markdown",
   "id": "revised-wallet",
   "metadata": {},
   "source": [
    "### 3.2 Prints edges and their weight\n",
    "\n",
    "#### >> `info_edges_weight(G, edges)`\n",
    "\n",
    "---\n",
    "\n",
    "- **G** = `(NetworkX Graph)`\n",
    "- **edges** = `list[(nodo1, nodo2)]`\n",
    "\n",
    "**Result** = prints a list of edges with their weight"
   ]
  },
  {
   "cell_type": "code",
   "execution_count": 14,
   "id": "affected-substance",
   "metadata": {},
   "outputs": [],
   "source": [
    "def info_edges_weight(G, edges):\n",
    "    for u, v in edges:\n",
    "        if G[u][v]['weight']:\n",
    "            print(u,' ', v, ' ', G[u][v]['weight'])\n",
    "    "
   ]
  },
  {
   "cell_type": "markdown",
   "id": "collective-portal",
   "metadata": {},
   "source": [
    "# 4. Giant Component\n",
    "\n",
    "\n",
    "#### >> `giant_component(G)`\n",
    "\n",
    "---\n",
    "\n",
    "- **G** = `(NetworkX Graph)`\n",
    "\n",
    "**Result** = returns network G's giant component\n",
    "- **G0** = `(NetworkX Graph)`"
   ]
  },
  {
   "cell_type": "code",
   "execution_count": 15,
   "id": "painted-strengthening",
   "metadata": {},
   "outputs": [],
   "source": [
    "def giant_component(G):\n",
    "    conn_comps = sorted(nx.connected_components(G), key=len, reverse=True)\n",
    "    G0 = G.subgraph(conn_comps[0])\n",
    "    return G0"
   ]
  },
  {
   "cell_type": "markdown",
   "id": "complete-torture",
   "metadata": {},
   "source": [
    "# 5. Overlap\n",
    "\n",
    "\n",
    "#### >> `node_overlap(G)`\n",
    "\n",
    "---\n",
    "\n",
    "- **G** = `(NetworkX Graph)`\n",
    "\n",
    "**Result** = overlap"
   ]
  },
  {
   "cell_type": "code",
   "execution_count": 16,
   "id": "square-virus",
   "metadata": {},
   "outputs": [],
   "source": [
    "def node_overlap(G):\n",
    "    for u, v in G.edges():\n",
    "        n_u = set(G.neighbors(u)) # set of u neighbors\n",
    "        n_v = set(G.neighbors(v)) # set of v neighbors\n",
    "        overlap = len(n_u & n_v) / len(n_u | n_v) # Neighborhood Overlap\n",
    "        G[u][v]['overlap'] = overlap\n",
    "    return G"
   ]
  },
  {
   "cell_type": "markdown",
   "id": "effective-kidney",
   "metadata": {},
   "source": [
    "# 6. Time splitting function\n",
    "\n",
    "### 6.1 Network temporal division \n",
    "\n",
    "#### >> `get_snapshot(path, ranges)`\n",
    "\n",
    "---\n",
    "\n",
    "- **path** = `(string)` path of the json data file\n",
    "- **ranges** = `([(data0, data1),(data2, data3),...])` array containg lists of date, to create network temporal frames\n",
    "\n",
    "**Result** = `([[{tweets_in_range_1}],[{}],...])` list of list of tweet in certain range of time"
   ]
  },
  {
   "cell_type": "code",
   "execution_count": 17,
   "id": "serial-journey",
   "metadata": {},
   "outputs": [],
   "source": [
    "def get_snapshot(path, ranges):\n",
    "    with open(path) as json_file:\n",
    "        data = json.load(json_file)\n",
    "    range_snap = []\n",
    "    for r in ranges:\n",
    "        tweets_in_range = []\n",
    "        for tweet in data:\n",
    "            if tweet['date'].split(\"T\")[0] in  r:\n",
    "                tweets_in_range.append(tweet)\n",
    "                \n",
    "        range_snap.append(tweets_in_range)\n",
    "        \n",
    "    return range_snap"
   ]
  },
  {
   "cell_type": "code",
   "execution_count": 18,
   "id": "bigger-transformation",
   "metadata": {},
   "outputs": [],
   "source": [
    "def format_coms(coms):\n",
    "    obj= {}\n",
    "    for key in coms:\n",
    "        if(coms[key] != None):\n",
    "            for c in coms[key]:\n",
    "                obj[c] = int(key.split(\"_\")[1])\n",
    "    return obj"
   ]
  },
  {
   "cell_type": "code",
   "execution_count": null,
   "id": "f1c52b89",
   "metadata": {},
   "outputs": [],
   "source": [
    "ranges = [\n",
    "    ['2021-06-10', '2021-06-11', '2021-06-12', '2021-06-13', '2021-06-14'], # Italy - Turkey (1)\n",
    "    ['2021-06-15', '2021-06-16', '2021-06-17', '2021-06-18', '2021-06-19'], # Italy - Switzerland (2)\n",
    "    ['2021-06-20', '2021-06-21', '2021-06-22', '2021-06-23', '2021-06-24'], # Italy - Wales (3)\n",
    "    ['2021-06-25', '2021-06-26', '2021-06-27', '2021-06-28', '2021-06-29'], # Italy - Austria (4)\n",
    "    ['2021-06-30', '2021-07-01', '2021-07-02', '2021-07-03', '2021-07-04'], # Italy - Belgium (5)\n",
    "    ['2021-07-05', '2021-07-06', '2021-07-07', '2021-07-08', '2021-07-09'], # Italy - Spain (6)\n",
    "    ['2021-07-10', '2021-07-11', '2021-07-12'],                             # Italy - England (7)\n",
    "]"
   ]
  }
 ],
 "metadata": {
  "interpreter": {
   "hash": "66b3e2fd3f45181390eec52825d6f63d319e1dfc034c5e0bfab24aa05acc1618"
  },
  "kernelspec": {
   "display_name": "Python 3 (ipykernel)",
   "language": "python",
   "name": "python3"
  },
  "language_info": {
   "codemirror_mode": {
    "name": "ipython",
    "version": 3
   },
   "file_extension": ".py",
   "mimetype": "text/x-python",
   "name": "python",
   "nbconvert_exporter": "python",
   "pygments_lexer": "ipython3",
   "version": "3.9.7"
  }
 },
 "nbformat": 4,
 "nbformat_minor": 5
}
