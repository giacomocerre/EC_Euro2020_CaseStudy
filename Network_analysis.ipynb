{
 "cells": [
  {
   "cell_type": "code",
   "execution_count": 1,
   "metadata": {
    "id": "WoAKDZoNjN82"
   },
   "outputs": [],
   "source": [
    "import networkx as nx\n",
    "import pandas as pd\n",
    "import seaborn as sns\n",
    "import matplotlib.pyplot as plt\n",
    "import warnings\n",
    "import json\n",
    "import numpy as np\n",
    "import powerlaw\n",
    "import collections\n",
    "import math"
   ]
  },
  {
   "cell_type": "code",
   "execution_count": 2,
   "metadata": {
    "id": "j0HWt80gjN86",
    "outputId": "7ae3533e-166c-46f5-b178-97fa917c3ce0"
   },
   "outputs": [],
   "source": [
    "%run Utilyties.ipynb"
   ]
  },
  {
   "cell_type": "markdown",
   "metadata": {
    "id": "16tq65R3jN87"
   },
   "source": [
    "# Network initialization from file"
   ]
  },
  {
   "cell_type": "code",
   "execution_count": 3,
   "metadata": {
    "id": "q2qjj0DejN88",
    "scrolled": true
   },
   "outputs": [],
   "source": [
    "data = read_data('../data/data_complete.json')\n",
    "G = init_network(data)"
   ]
  },
  {
   "cell_type": "markdown",
   "metadata": {},
   "source": [
    "# Static"
   ]
  },
  {
   "cell_type": "markdown",
   "metadata": {
    "id": "c7Sg66RpjN89"
   },
   "source": [
    "## Analysis of the network"
   ]
  },
  {
   "cell_type": "code",
   "execution_count": 4,
   "metadata": {
    "id": "V3umgFQmjN89",
    "outputId": "cbec9b4e-eb32-4366-a13b-0e73f0bf4dca"
   },
   "outputs": [
    {
     "name": "stdout",
     "output_type": "stream",
     "text": [
      "Network information of G:\n",
      " Nodes: \t15378\n",
      " Edges: \t36496\n",
      "\n",
      " Average degree: \t\t4.746521004031734\n",
      " Transitivity: \t\t0.010300601756433787\n",
      " Average clustering: \t0.14928223371208652\n",
      "\n",
      " Connected components: \t204\n",
      " Diameter: \t12\n",
      "\n",
      " Density: \t0.00030867666020886606\n",
      "\n"
     ]
    }
   ],
   "source": [
    "network_info(G, 'G')"
   ]
  },
  {
   "cell_type": "code",
   "execution_count": 5,
   "metadata": {
    "id": "ZWge2bkcjN89"
   },
   "outputs": [],
   "source": [
    "degree_sequence = sorted([d for n, d in G.degree()], reverse=False)\n",
    "degreeCount = collections.Counter(degree_sequence)\n",
    "deg, cnt = zip(*degreeCount.items())\n",
    "deg=list(deg)\n",
    "cnt=list(cnt)"
   ]
  },
  {
   "cell_type": "code",
   "execution_count": 6,
   "metadata": {
    "id": "9MYrDyGPjN8-"
   },
   "outputs": [],
   "source": [
    "x = list(deg[:30]) #we take the regime power law values\n",
    "y = list(cnt[:30])\n",
    "del x[0]\n",
    "del y[0]"
   ]
  },
  {
   "cell_type": "code",
   "execution_count": 7,
   "metadata": {
    "id": "nwpDUz3CjN8-",
    "outputId": "ef5d4c5b-fb18-46b0-f186-f805905225e1"
   },
   "outputs": [
    {
     "name": "stdout",
     "output_type": "stream",
     "text": [
      "The exponent of the power law is: -2.117501555155114 \n",
      "The logarithm of the moltiplicative constant is: 9.569705772277553\n"
     ]
    }
   ],
   "source": [
    "p,cov = np.polyfit([math.log(elem) for elem in x],[math.log(elem) for elem in y],1,cov=True)\n",
    "print(\"The exponent of the power law is:\", p[0],\"\\nThe logarithm of the moltiplicative constant is:\", p[1])"
   ]
  },
  {
   "cell_type": "code",
   "execution_count": 8,
   "metadata": {
    "id": "pjD8hPrRjN8_",
    "outputId": "9387a966-98f2-4fcf-e04e-b39cccff12e1"
   },
   "outputs": [
    {
     "data": {
      "image/png": "[encoded data removed]",
      "text/plain": [
       "<Figure size 432x288 with 1 Axes>"
      ]
     },
     "metadata": {
      "needs_background": "light"
     },
     "output_type": "display_data"
    }
   ],
   "source": [
    "plt.plot(deg, cnt, \".\")\n",
    "plt.plot(x, [math.e**p[1]/(elem**(-p[0])) for elem in x], 'r') #log(y)=log(a)-klog(x) => y=a/x^k\n",
    "plt.title(\"Degree Distribution\")\n",
    "plt.xlabel(\"Degree\")\n",
    "plt.ylabel(\"#Nodes\")\n",
    "plt.loglog()\n",
    "plt.show()"
   ]
  },
  {
   "cell_type": "markdown",
   "metadata": {
    "id": "rpaCJctEjN8_"
   },
   "source": [
    "## Giant compontent - G0"
   ]
  },
  {
   "cell_type": "code",
   "execution_count": 9,
   "metadata": {
    "id": "Jo6HMoCpjN9A"
   },
   "outputs": [],
   "source": [
    "G0 = giant_component(G)"
   ]
  },
  {
   "cell_type": "code",
   "execution_count": 10,
   "metadata": {
    "id": "lr00XqMGjN9A",
    "outputId": "10926af8-abc1-4d8f-f95f-f1964b0773b8"
   },
   "outputs": [
    {
     "name": "stdout",
     "output_type": "stream",
     "text": [
      "Network information of giant component - G0:\n",
      " Nodes: \t14883\n",
      " Edges: \t36182\n",
      "\n",
      " Average degree: \t\t4.862191762413492\n",
      " Transitivity: \t\t0.010288345596862104\n",
      " Average clustering: \t0.15150365226709217\n",
      "\n",
      " Connected components: \t1\n",
      " Diameter: \t12\n",
      "\n",
      " Density: \t0.0003267162856076799\n",
      "\n",
      "Average length of shortest paths: 3.994312254317719\n"
     ]
    }
   ],
   "source": [
    "network_info(G0, 'giant component - G0')"
   ]
  },
  {
   "cell_type": "markdown",
   "metadata": {
    "id": "IiWm7XDRjN9A"
   },
   "source": [
    "# Centrality & Assortative Mixing"
   ]
  },
  {
   "cell_type": "markdown",
   "metadata": {
    "id": "qRk02mQSjN9A"
   },
   "source": [
    "## Degree centrality"
   ]
  },
  {
   "cell_type": "code",
   "execution_count": 11,
   "metadata": {
    "id": "ZdY6d0WvjN9B",
    "outputId": "6b20fe84-e5f0-454b-f6b7-879f74d9c190",
    "scrolled": false
   },
   "outputs": [
    {
     "name": "stdout",
     "output_type": "stream",
     "text": [
      "6b795e4952414152 \t 1179\n",
      "7c5254495c5254575a4b54494f5a \t 1074\n",
      "5d495a4f544f54575409 \t 855\n",
      "575e5d495a48525f5254485354 \t 793\n",
      "7d5e5f5e49525854695a564b525552 \t 788\n",
      "7c525a55565a49090d0a0f0e020a0c \t 756\n",
      "765a49585475545e570a02 \t 702\n",
      "6d524d54647a41414e494954 \t 675\n",
      "4954595e494f54485a4d525a5554 \t 608\n",
      "6b49545d785a564b5a5c555a \t 545\n",
      "565a555c5255545949525458535e48 \t 523\n",
      "775e54555a495f546b5a555e4f4f5a \t 517\n",
      "6f5e555f5e55415a6b5e4958535e \t 504\n",
      "495e4b4e59595752585a \t 477\n",
      "7d727c78 \t 445\n",
      "565a4e495459525a5552 \t 402\n",
      "6d5a575e49525a6b5a49495e575709 \t 398\n",
      "717d685e595a484f525a550a0f0d \t 371\n",
      "484f495a555c5e645f5a4248640309 \t 359\n",
      "7a57595e494f54775e4f5241525a09 \t 348\n",
      "5853525e5757525552 \t 346\n",
      "7c524e485e4b4b5e6b5a57565a0c03 \t 332\n",
      "4b525e4f4954495a5d5d5a \t 323\n",
      "7e485e4958524f5478494e58525a55 \t 315\n",
      "4b5e4958535e4f5e555f5e55415a \t 309\n"
     ]
    }
   ],
   "source": [
    "degrees = dict(G.degree()) #compute the degree of a set of nodes (if specified).\n",
    "top_score_print(25, degrees, order=True)"
   ]
  },
  {
   "cell_type": "markdown",
   "metadata": {
    "id": "6PT67R8kjN9B"
   },
   "source": [
    "## Closeness centrality"
   ]
  },
  {
   "cell_type": "code",
   "execution_count": 12,
   "metadata": {
    "id": "N8OKtXGojN9B",
    "outputId": "2e970cd6-928a-4044-ab4a-be87b6403228"
   },
   "outputs": [
    {
     "name": "stdout",
     "output_type": "stream",
     "text": [
      "717d685e595a484f525a550a0f0d \t 0.402024633299384\n",
      "5d495a4f544f54575409 \t 0.3678722546123756\n",
      "6b795e4952414152 \t 0.36679487897175056\n",
      "6d524d54647a41414e494954 \t 0.36549177842981523\n",
      "7e5549525854775e4f4f5a \t 0.36072266360908956\n",
      "495e4b4e59595752585a \t 0.3548045157556222\n",
      "78544949525e495e \t 0.351909072336389\n",
      "090b0a0f7654555a5854 \t 0.3515311557303458\n",
      "5154594c524f5352554f5e49555e4f \t 0.3511711735647274\n",
      "7d5e5f5e49525854695a564b525552 \t 0.35002757151219327\n",
      "4b52495e430c0b \t 0.3492805925061531\n",
      "4954595e494f54485a4d525a5554 \t 0.34531958360506676\n",
      "7c525a55565a49090d0a0f0e020a0c \t 0.34507138437872803\n",
      "695e6f4c524f684f54495664524f5a \t 0.34280458199651864\n",
      "7c5254495c5254575a4b54494f5a \t 0.3411966577259074\n",
      "7d727c78 \t 0.34115624881765433\n",
      "5853525e5757525552 \t 0.3396037469662052\n",
      "6b5a4f4952544f5a64726f7a64 \t 0.33830353061924484\n",
      "575e5d495a48525f5254485354 \t 0.33779573414756153\n",
      "774e585e7853525a495a0a090a0a \t 0.3377086101100548\n",
      "4b5e4958535e4f5e555f5e55415a \t 0.33650929914216327\n",
      "49545942565a55585254 \t 0.3351702157819913\n",
      "724f5a5752585a6f5e484f4e5f54 \t 0.33388818213097177\n",
      "7d495a775a4e4952585e57575a \t 0.3337334502533478\n",
      "7a575e43685a55555a0803 \t 0.3335402369640991\n"
     ]
    }
   ],
   "source": [
    "closeness = nx.closeness_centrality(G) #compute the closeness centraliry of all nodes\n",
    "top_score_print(25, closeness, order=True)"
   ]
  },
  {
   "cell_type": "markdown",
   "metadata": {
    "id": "9pEMtk66jN9C"
   },
   "source": [
    "## Eigenvector centrality"
   ]
  },
  {
   "cell_type": "code",
   "execution_count": 13,
   "metadata": {
    "id": "wFVd_1fHjN9C",
    "outputId": "bbc3a142-c7ad-4925-ca95-91927657a01e"
   },
   "outputs": [
    {
     "name": "stdout",
     "output_type": "stream",
     "text": [
      "5d495a4f544f54575409 \t 0.29078905435579444\n",
      "7d5e5f5e49525854695a564b525552 \t 0.26392969123266774\n",
      "7c5254495c5254575a4b54494f5a \t 0.2424198491495701\n",
      "7c525a55565a49090d0a0f0e020a0c \t 0.23481240955048036\n",
      "6d524d54647a41414e494954 \t 0.19474207663452395\n",
      "6b795e4952414152 \t 0.18460399485823129\n",
      "484f495a555c5e645f5a4248640309 \t 0.11545429997065575\n",
      "724f5a5752585a6f5e484f4e5f54 \t 0.10519251040616717\n",
      "575e5d495a48525f5254485354 \t 0.09492303389654894\n",
      "7e5549525854775e4f4f5a \t 0.09294081379898483\n",
      "717d685e595a484f525a550a0f0d \t 0.09030551685437603\n",
      "775e54555a495f546b5a555e4f4f5a \t 0.08894876867672576\n",
      "5154594c524f5352554f5e49555e4f \t 0.08499694861976116\n",
      "4954595e494f54485a4d525a5554 \t 0.08330314623619564\n",
      "7c524e485e4b4b5e6b5a57565a0c03 \t 0.08032254337727869\n",
      "090b0a0f7654555a5854 \t 0.0795702025602081\n",
      "495e4b4e59595752585a \t 0.07589782934610749\n",
      "5e575e555a645e57555649570a0e \t 0.0715756010933571\n",
      "5a5f49525a5554594e4854575255 \t 0.06998166525063004\n",
      "5a484b5e4f4f5a5a484b5e4f4f5a \t 0.06755917767853827\n",
      "625264795e555e4d54575e55585e \t 0.06624790602547667\n",
      "7e485e4958524f5478494e58525a55 \t 0.06497458783589544\n",
      "7d727c78 \t 0.06459218435235274\n",
      "774e585e7853525a495a0a090a0a \t 0.06422003369072074\n",
      "6b5a4f4952544f5a64726f7a64 \t 0.06288494050650441\n"
     ]
    }
   ],
   "source": [
    "centrality = nx.eigenvector_centrality(G)\n",
    "top_score_print(25, centrality, order=True)"
   ]
  },
  {
   "cell_type": "markdown",
   "metadata": {
    "id": "OjHW0KZHjN9C"
   },
   "source": [
    "## Betweenness Centrality"
   ]
  },
  {
   "cell_type": "markdown",
   "metadata": {
    "id": "HXiic6E7jN9D"
   },
   "source": [
    "Number of shortest paths that go through a node.\n",
    "\n",
    "Assumption: important vertices are bridges over which information flows\n",
    "\n",
    "Practically: if information spreads via shortest paths, important nodes are found on many shortest paths "
   ]
  },
  {
   "cell_type": "code",
   "execution_count": 14,
   "metadata": {
    "id": "ECklqFz9jN9D"
   },
   "outputs": [],
   "source": [
    "betweenness = nx.betweenness_centrality(G) #compute the betweenness centraliry of all nodes"
   ]
  },
  {
   "cell_type": "code",
   "execution_count": 15,
   "metadata": {
    "id": "rRQZ_KHfjN9D",
    "outputId": "496a7a7d-e95b-4562-ec80-004400b5ff78",
    "scrolled": false
   },
   "outputs": [
    {
     "name": "stdout",
     "output_type": "stream",
     "text": [
      "6b795e4952414152 \t 0.12556740612869488\n",
      "717d685e595a484f525a550a0f0d \t 0.12243616567818803\n",
      "7c5254495c5254575a4b54494f5a \t 0.08313197206276401\n",
      "575e5d495a48525f5254485354 \t 0.07590723352328275\n",
      "6d524d54647a41414e494954 \t 0.06602549673567451\n",
      "765a49585475545e570a02 \t 0.057859906172358457\n",
      "4954595e494f54485a4d525a5554 \t 0.05491770117375769\n",
      "5d495a4f544f54575409 \t 0.053963395323128306\n",
      "7c525a55565a49090d0a0f0e020a0c \t 0.04574902250995186\n",
      "565a555c5255545949525458535e48 \t 0.044162662780037075\n",
      "6f5e555f5e55415a6b5e4958535e \t 0.043815057113209925\n",
      "6b49545d785a564b5a5c555a \t 0.04339098877280056\n",
      "7d5e5f5e49525854695a564b525552 \t 0.03722816201570967\n",
      "495e4b4e59595752585a \t 0.03535088750336867\n",
      "6d5a575e49525a6b5a49495e575709 \t 0.03490183811386544\n",
      "775e54555a495f546b5a555e4f4f5a \t 0.03326501904223141\n",
      "7d727c78 \t 0.029102077193788062\n",
      "7a57595e494f54775e4f5241525a09 \t 0.023874523288953228\n",
      "565a494f5a5d5a555a \t 0.023615143537778417\n",
      "4b525e4f4954495a5d5d5a \t 0.023329872107537192\n",
      "4b5e4958535e4f5e555f5e55415a \t 0.0213620691894337\n",
      "7e485e4958524f5478494e58525a55 \t 0.02073571899036493\n",
      "090b0a0f7654555a5854 \t 0.02063217641635417\n",
      "7e5549525854775e4f4f5a \t 0.020625364183160695\n",
      "774e58525a785a4b49525c \t 0.020205276160074014\n"
     ]
    }
   ],
   "source": [
    "top_score_print(25, betweenness, order=True)"
   ]
  },
  {
   "cell_type": "markdown",
   "metadata": {},
   "source": [
    "# Temporal"
   ]
  },
  {
   "cell_type": "code",
   "execution_count": 20,
   "metadata": {},
   "outputs": [
    {
     "name": "stdout",
     "output_type": "stream",
     "text": [
      "Net Growth:   [78, 102, 3374, 14332, 15113, 15174, 15378] \n",
      "Link Growth:  [88, 114, 4994, 32610, 35711, 35936, 36496]\n"
     ]
    }
   ],
   "source": [
    "snapshots = get_snapshot(\"../data/data_complete.json\", ranges)\n",
    "\n",
    "net_growth = []\n",
    "link_growth = []\n",
    "G=nx.Graph()\n",
    "\n",
    "for snap in snapshots:\n",
    "    build_network(snap, G)\n",
    "    net_growth.append(len(G.nodes))\n",
    "    link_growth.append(len(G.edges()))\n",
    "\n",
    "print(\"Net Growth:  \", net_growth,\"\\nLink Growth: \", link_growth)"
   ]
  },
  {
   "cell_type": "code",
   "execution_count": null,
   "metadata": {},
   "outputs": [],
   "source": []
  }
 ],
 "metadata": {
  "colab": {
   "collapsed_sections": [],
   "name": "Analysis+fit.ipynb",
   "provenance": []
  },
  "interpreter": {
   "hash": "66b3e2fd3f45181390eec52825d6f63d319e1dfc034c5e0bfab24aa05acc1618"
  },
  "kernelspec": {
   "display_name": "Python 3",
   "language": "python",
   "name": "python3"
  }
 },
 "nbformat": 4,
 "nbformat_minor": 5
}
